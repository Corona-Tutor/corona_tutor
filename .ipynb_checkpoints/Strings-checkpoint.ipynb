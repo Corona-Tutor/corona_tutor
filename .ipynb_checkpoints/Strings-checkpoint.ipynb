{
 "cells": [
  {
   "cell_type": "code",
   "execution_count": 5,
   "metadata": {},
   "outputs": [
    {
     "data": {
      "text/plain": [
       "'Jason Yang'"
      ]
     },
     "execution_count": 5,
     "metadata": {},
     "output_type": "execute_result"
    }
   ],
   "source": [
    "first_name = \"Jason\"\n",
    "last_name = \"Yang\"\n",
    "full_name = first_name + \" \" + last_name\n",
    "full_name"
   ]
  },
  {
   "cell_type": "code",
   "execution_count": 6,
   "metadata": {},
   "outputs": [
    {
     "data": {
      "text/plain": [
       "'J'"
      ]
     },
     "execution_count": 6,
     "metadata": {},
     "output_type": "execute_result"
    }
   ],
   "source": [
    "full_name[0]"
   ]
  },
  {
   "cell_type": "code",
   "execution_count": 13,
   "metadata": {},
   "outputs": [
    {
     "name": "stdout",
     "output_type": "stream",
     "text": [
      "0\n",
      "1\n",
      "2\n",
      "3\n",
      "4\n",
      "5\n",
      "6\n",
      "7\n",
      "8\n"
     ]
    }
   ],
   "source": [
    "for i in range(0, 9):\n",
    "    print(i)"
   ]
  },
  {
   "cell_type": "code",
   "execution_count": 15,
   "metadata": {},
   "outputs": [
    {
     "data": {
      "text/plain": [
       "'Jason Yang'"
      ]
     },
     "execution_count": 15,
     "metadata": {},
     "output_type": "execute_result"
    }
   ],
   "source": [
    "full_name"
   ]
  },
  {
   "cell_type": "code",
   "execution_count": 14,
   "metadata": {
    "scrolled": true
   },
   "outputs": [
    {
     "name": "stdout",
     "output_type": "stream",
     "text": [
      "J\n",
      "a\n",
      "s\n",
      "o\n",
      "n\n",
      " \n",
      "Y\n",
      "a\n",
      "n\n",
      "g\n"
     ]
    }
   ],
   "source": [
    "for i in full_name:\n",
    "    print(i)"
   ]
  },
  {
   "cell_type": "code",
   "execution_count": 18,
   "metadata": {},
   "outputs": [
    {
     "name": "stdout",
     "output_type": "stream",
     "text": [
      "J\n",
      "a\n",
      "s\n",
      "o\n",
      "n\n",
      " \n",
      "Y\n",
      "a\n",
      "n\n",
      "g\n"
     ]
    }
   ],
   "source": [
    "for i in range(0, 10):\n",
    "    print(full_name[i])"
   ]
  },
  {
   "cell_type": "code",
   "execution_count": 19,
   "metadata": {},
   "outputs": [
    {
     "name": "stdout",
     "output_type": "stream",
     "text": [
      "J\n",
      "a\n",
      "s\n",
      "o\n",
      "n\n",
      " \n",
      "Y\n",
      "a\n",
      "n\n",
      "g\n"
     ]
    }
   ],
   "source": [
    "for i in range(len(full_name)):\n",
    "    print(full_name[i])"
   ]
  },
  {
   "cell_type": "code",
   "execution_count": 26,
   "metadata": {},
   "outputs": [
    {
     "data": {
      "text/plain": [
       "'g'"
      ]
     },
     "execution_count": 26,
     "metadata": {},
     "output_type": "execute_result"
    }
   ],
   "source": [
    "full_name[9]"
   ]
  },
  {
   "cell_type": "code",
   "execution_count": 27,
   "metadata": {},
   "outputs": [
    {
     "name": "stdout",
     "output_type": "stream",
     "text": [
      "J\n",
      "a\n",
      "s\n",
      "o\n",
      "n\n",
      " \n",
      "Y\n",
      "a\n",
      "n\n",
      "g\n"
     ]
    }
   ],
   "source": [
    "i = 0\n",
    "\n",
    "while i < len(full_name):\n",
    "    print(full_name[i])\n",
    "    i += 1"
   ]
  },
  {
   "cell_type": "markdown",
   "metadata": {},
   "source": [
    "## Problems"
   ]
  },
  {
   "cell_type": "code",
   "execution_count": 2,
   "metadata": {},
   "outputs": [],
   "source": [
    "def assert_equals(val1, val2):\n",
    "    if val1 == val2:\n",
    "        print('Correct!')\n",
    "    else:\n",
    "        print('Incorrect... ' + \"Got: \" + val1 + \" Answer: \" + val2)"
   ]
  },
  {
   "cell_type": "markdown",
   "metadata": {},
   "source": [
    "## Problem 1"
   ]
  },
  {
   "cell_type": "code",
   "execution_count": null,
   "metadata": {},
   "outputs": [],
   "source": [
    "def hello_name(name):\n",
    "    \"\"\"\n",
    "    Given a string name, e.g. \"Jason\", return a greeting of the form\n",
    "    \"Hello Jason!\"\n",
    "    \"\"\"\n",
    "    \n",
    "    return _____"
   ]
  },
  {
   "cell_type": "code",
   "execution_count": null,
   "metadata": {},
   "outputs": [],
   "source": [
    "assert_equals(hello_name(\"Jason\"), \"Hello Jason!\")\n",
    "assert_equals(hello_name(\"Elon\"), \"Hello Elon!\")\n",
    "assert_equals(hello_name(\"Donald\"), \"Hello Donald!\")"
   ]
  },
  {
   "cell_type": "markdown",
   "metadata": {},
   "source": [
    "## Problem 2"
   ]
  },
  {
   "cell_type": "code",
   "execution_count": null,
   "metadata": {},
   "outputs": [],
   "source": [
    "def make_abba(a, b):\n",
    "    \"\"\"\n",
    "    Given two strings, a and b, return the result of putting them together\n",
    "    like abba.\n",
    "    make_abba(\"Hi\", \"Jason\") --> \"HiJasonJasonHi\"\n",
    "    \"\"\"\n",
    "    \n",
    "    return _____"
   ]
  },
  {
   "cell_type": "code",
   "execution_count": null,
   "metadata": {},
   "outputs": [],
   "source": [
    "assert_equals(make_abba(\"Hi\", \"Jason\"), \"HiJasonJasonHi\")\n",
    "assert_equals(make_abba(\"Bye\", \"Elon\"), \"ByeElonElonBye\")\n",
    "assert_equals(make_abba(\"a\", \"b\"), \"abba\")"
   ]
  },
  {
   "cell_type": "markdown",
   "metadata": {},
   "source": [
    "## Question 3a"
   ]
  },
  {
   "cell_type": "code",
   "execution_count": null,
   "metadata": {},
   "outputs": [],
   "source": [
    "def first_half_while_loop(s):\n",
    "    \"\"\"\n",
    "    Given a string s, return the first half of the string.\n",
    "    first_half(\"Woohoo\") --> \"Woo\"\n",
    "    \"\"\"\n",
    "    \n",
    "    i = 0 # Initialize i to 0 to iterate through s. \n",
    "    half = \"\" # Initialize an empty string to add to our first half.\n",
    "    \n",
    "    while i < len(s)/2: # Only want to iterate through the first half.\n",
    "        half += _____ # Add Code here\n",
    "        i += 1\n",
    "    return half \n",
    "        "
   ]
  },
  {
   "cell_type": "code",
   "execution_count": null,
   "metadata": {},
   "outputs": [],
   "source": [
    "assert_equals(first_half_while_loop(\"Woohoo\"), \"Woo\")\n",
    "assert_equals(first_half_while_loop(\"HelloHello\"), \"Hello\")\n",
    "assert_equals(first_half_while_loop(\"JasonYang\"), \"Jason\")"
   ]
  },
  {
   "cell_type": "markdown",
   "metadata": {},
   "source": [
    "## Question 3b"
   ]
  },
  {
   "cell_type": "code",
   "execution_count": null,
   "metadata": {},
   "outputs": [],
   "source": [
    "def first_half_for_loop(s):\n",
    "    \"\"\"\n",
    "    Given a string s, return the first half of the string. Use a for loop.\n",
    "    first_half(\"Woohoo\") --> \"Woo\"\n",
    "    \"\"\"\n",
    "    \n",
    "    half = \"\" # Initialize an empty string to add to our first half.\n",
    "    \n",
    "    for i in range(_____): # Add Code here. How far do we have to iterate?\n",
    "        half += _____ # Add Code here. How do we get the character??\n",
    "        i += 1\n",
    "    return half\n",
    "    "
   ]
  },
  {
   "cell_type": "code",
   "execution_count": null,
   "metadata": {},
   "outputs": [],
   "source": [
    "assert_equals(first_half_for_loop(\"Woohoo\"), \"Woo\")\n",
    "assert_equals(first_half_for_loop(\"HelloHello\"), \"Hello\")\n",
    "assert_equals(first_half_for_loop(\"JasonYang\"), \"Jason\")"
   ]
  },
  {
   "cell_type": "markdown",
   "metadata": {},
   "source": [
    "## Problem 4a"
   ]
  },
  {
   "cell_type": "code",
   "execution_count": null,
   "metadata": {},
   "outputs": [],
   "source": [
    "def every_other_a(s):\n",
    "    \"\"\"\n",
    "    Given a string s, return a new string that has every other character\n",
    "    in s.\n",
    "    every_other(\"Jason\") --> \"Jsn\"\n",
    "    \"\"\"\n",
    "    \n",
    "    new_string = \"\" # Initialize an empty string to hold every other\n",
    "    \n",
    "    need_character = True # Initialize a boolean to represent if we need\n",
    "                          # this current character. \n",
    "    for i in s:\n",
    "        if need_character:\n",
    "            new_string += _____ # Add Code here\n",
    "            \n",
    "        # We need_character then we don't then we do then we don't. \n",
    "        need_character = _____ # Add Code here\n",
    "    \n",
    "    return new_string"
   ]
  },
  {
   "cell_type": "code",
   "execution_count": null,
   "metadata": {},
   "outputs": [],
   "source": [
    "assert_equals(every_other_a(\"Jason\"), \"Jsn\")\n",
    "assert_equals(every_other_a(\"Hello\"), \"Hlo\")\n",
    "assert_equals(every_other_a(\"ABBBCCCC\"), \"ABCC\")"
   ]
  },
  {
   "cell_type": "markdown",
   "metadata": {},
   "source": [
    "## Problem 4b"
   ]
  },
  {
   "cell_type": "code",
   "execution_count": null,
   "metadata": {},
   "outputs": [],
   "source": [
    "def every_other_b(s):\n",
    "    \"\"\"\n",
    "    Given a string s, return a new string that has every other character\n",
    "    in s.\n",
    "    every_other(\"Jason\") --> \"Jsn\"\n",
    "    \"\"\"\n",
    "    \n",
    "    new_string = \"\" # Initialize an empty string to hold every other\n",
    "    \n",
    "    # We want to iterate through the string, but want to know what\n",
    "    # index we are at, because if we are at an even index we want to add\n",
    "    # but if we are not, we do not want to add. \n",
    "    \n",
    "    for i in range(_____): # Add code here\n",
    "        \n",
    "        # i represents the index we are at, write a condition to check\n",
    "        # if it is even\n",
    "        if _____ : # Add Code here\n",
    "            # How do we get the character at the index of the string?\n",
    "            new_string += _____ # Add Code here\n",
    "    \n",
    "    return new_string"
   ]
  },
  {
   "cell_type": "code",
   "execution_count": null,
   "metadata": {},
   "outputs": [],
   "source": [
    "assert_equals(every_other_b(\"Jason\"), \"Jsn\")\n",
    "assert_equals(every_other_b(\"Hello\"), \"Hlo\")\n",
    "assert_equals(every_other_b(\"ABBBCCCC\"), \"ABCC\")"
   ]
  },
  {
   "cell_type": "markdown",
   "metadata": {},
   "source": [
    "## Problem 5a"
   ]
  },
  {
   "cell_type": "code",
   "execution_count": null,
   "metadata": {},
   "outputs": [],
   "source": [
    "def count_character_for_loop(s, c):\n",
    "    \"\"\"\n",
    "    Counts the number of times the character c shows up in the string s\n",
    "    count_character_for_loop('AAAbbbCCC', 'b') -> 3. We will be doing\n",
    "    this in a for loop.\n",
    "    \"\"\"\n",
    "    \n",
    "    # This count variable will be used to keep track of the number of\n",
    "    # times we have seen c so far. \n",
    "    count = # Add code here. \n",
    "    \n",
    "    for i in s:\n",
    "        # Write a condition to check if the character we are currently\n",
    "        # iterating at is c, and add what we should do if this is true\n",
    "        if _____: # Add Code here\n",
    "            count += _____ # Add Code here\n",
    "    \n",
    "    return count"
   ]
  },
  {
   "cell_type": "code",
   "execution_count": null,
   "metadata": {},
   "outputs": [],
   "source": [
    "assert_equals(count_character_for_loop(\"AAAbbbCCC\", 'b'), 3)\n",
    "assert_equals(count_character_for_loop(\"bbbbbbb\", 'c'), 0)\n",
    "assert_equals(count_character_for_loop(\"abcdefg\", 'e'), 1)"
   ]
  },
  {
   "cell_type": "markdown",
   "metadata": {},
   "source": [
    "## Problem 5b"
   ]
  },
  {
   "cell_type": "code",
   "execution_count": null,
   "metadata": {},
   "outputs": [],
   "source": [
    "def count_character_while_loop(s, c):\n",
    "    \"\"\"\n",
    "    Counts the number of times the character c shows up in the string s\n",
    "    count_character_for_loop('AAAbbbCCC', 'b') -> 3. We will be doing\n",
    "    this in a while loop.\n",
    "    \"\"\"\n",
    "    \n",
    "    # This count variable will be used to keep track of the number of\n",
    "    # times we have seen c so far. \n",
    "    count = # Add code here. \n",
    "    i = 0 # Initialize i to be 0.\n",
    "    while i < _____: # We want to iterate through the string\n",
    "        # Write a condition to check if the character we are currently\n",
    "        # iterating at is c, and add what we should do if this is true\n",
    "        if _____: # Add Code here\n",
    "            count += _____ # Add Code here\n",
    "    \n",
    "    return count"
   ]
  },
  {
   "cell_type": "markdown",
   "metadata": {},
   "source": [
    "## Problem 6"
   ]
  },
  {
   "cell_type": "code",
   "execution_count": null,
   "metadata": {},
   "outputs": [],
   "source": [
    "def separate_name(full_name):\n",
    "    \"\"\"\n",
    "    Returns first_name, last_name that comes from a string full_name\n",
    "    Full name is always separated by a space --> \" \".\n",
    "    separate_name(\"Jason Yang\") --> \"Jason\", \"Yang\"\n",
    "    \"\"\"\n",
    "    \n",
    "    first_name = \"\" # Initialize empty string to represent our first name\n",
    "    last_name = \"\" # Initialize empty string to represent our last name\n",
    "    \n",
    "    seen_space = False # This variable is used to determine if we have\n",
    "                       # seen \" \", if we haven't we add to our first name,\n",
    "                       # else, we add to our last name\n",
    "    \n",
    "    for i in full_name: # This for loop iterates through full_name.\n",
    "        if i == \" \": # If we see a space represented by \" \", what do we do?\n",
    "            seen_space = # Add code here\n",
    "        else:\n",
    "            if not seen_space: # If we haven't seen space, what do we do?\n",
    "                first_name += _____ # Add code here\n",
    "            else: # If we have seen space, what do we do?\n",
    "                last_name += _____ # Add code here\n",
    "        \n",
    "    return first_name, last_name #Returns first_name, last_name"
   ]
  },
  {
   "cell_type": "code",
   "execution_count": null,
   "metadata": {},
   "outputs": [],
   "source": [
    "assert_equals(separate_name(\"Jason Yang\"), (\"Jason\", \"Yang\"))\n",
    "assert_equals(separate_name(\"Elon Musk\"), (\"Elon\", \"Musk\"))\n",
    "assert_equals(separate_name(\"Donald Trump\"), (\"Donald\", \"Trump\"))"
   ]
  },
  {
   "cell_type": "markdown",
   "metadata": {},
   "source": [
    "## Problem 7"
   ]
  },
  {
   "cell_type": "code",
   "execution_count": null,
   "metadata": {},
   "outputs": [],
   "source": [
    "def non_start(s1, s2):\n",
    "    \"\"\"\n",
    "    Given two strings, return a new string that is the concatenation of\n",
    "    the two strings, except with their first character.\n",
    "    non_start(\"Jason\", \"Yang\") --> \"asonang\"\n",
    "    \"\"\"\n",
    "    new_string = \"\" # Initialize a new string to keep track.\n",
    "    \n",
    "    # Add every character except first for s1. \n",
    "    for i in range(_____): # What is the range we are trying to go for?\n",
    "        new_string += "
   ]
  },
  {
   "cell_type": "code",
   "execution_count": null,
   "metadata": {},
   "outputs": [],
   "source": [
    "assert_equals(non_start(\"Jason Yang\"), \"asonang\")\n",
    "assert_equals(non_start(\"Elon Musk\"), \"lonusk\")\n",
    "assert_equals(non_start(\"Donald Trump\"), \"onaldrump\")"
   ]
  }
 ],
 "metadata": {
  "kernelspec": {
   "display_name": "Python 3",
   "language": "python",
   "name": "python3"
  },
  "language_info": {
   "codemirror_mode": {
    "name": "ipython",
    "version": 3
   },
   "file_extension": ".py",
   "mimetype": "text/x-python",
   "name": "python",
   "nbconvert_exporter": "python",
   "pygments_lexer": "ipython3",
   "version": "3.7.4"
  }
 },
 "nbformat": 4,
 "nbformat_minor": 2
}
