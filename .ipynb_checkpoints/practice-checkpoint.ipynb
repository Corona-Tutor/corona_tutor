{
 "cells": [
  {
   "cell_type": "code",
   "execution_count": null,
   "metadata": {},
   "outputs": [],
   "source": [
    "def assertEquals(val1, val2):\n",
    "    if val1 == val2:\n",
    "        print('Correct')\n",
    "    else:\n",
    "        print('Incorrect')"
   ]
  },
  {
   "cell_type": "markdown",
   "metadata": {},
   "source": [
    "## Question 1"
   ]
  },
  {
   "cell_type": "code",
   "execution_count": null,
   "metadata": {},
   "outputs": [],
   "source": [
    "def tip_calculator(total_price, tip_percent):\n",
    "    '''Return the total amount of the check, \n",
    "       including the tip.'''\n",
    "    return"
   ]
  },
  {
   "cell_type": "code",
   "execution_count": null,
   "metadata": {},
   "outputs": [],
   "source": [
    "assertEquals(tip_calculator(10, .15), 11.5)\n",
    "assertEquals(tip_calculator(9.95, .10), 10.945)\n",
    "assertEquals(tip_calculator(11.99, .20), 14.388 )"
   ]
  },
  {
   "cell_type": "markdown",
   "metadata": {},
   "source": [
    "## Question 2"
   ]
  },
  {
   "cell_type": "code",
   "execution_count": null,
   "metadata": {},
   "outputs": [],
   "source": [
    "def is_square(length, width):\n",
    "    '''Return true the given length and \n",
    "        width of a rectangle makes it a square.'''\n",
    "    return"
   ]
  },
  {
   "cell_type": "code",
   "execution_count": null,
   "metadata": {},
   "outputs": [],
   "source": [
    "assertEquals(is_square(5, 6), False)\n",
    "assertEquals(is_square(5, 5), True)\n",
    "assertEquals(is_square(1, -1), False)"
   ]
  },
  {
   "cell_type": "markdown",
   "metadata": {},
   "source": [
    "## Question 1"
   ]
  },
  {
   "cell_type": "code",
   "execution_count": null,
   "metadata": {},
   "outputs": [],
   "source": [
    "def student_attendance(num_classes_held, num_classes_attended):\n",
    "    '''A student will not be allowed to sit in the exam\n",
    "    if his/her attendance is less than 75%. The function takes in \n",
    "    the number of classes held, and num_classes attended. \n",
    "    Print the percentage of class attended and return true if \n",
    "    the student is allowed to sit in the exam and false if not.'''\n",
    "    x = num_classes_attended/num_classes_held\n",
    "    print(## Question 1x)\n",
    "    if x >= .75:\n",
    "        return True\n",
    "    else:\n",
    "        return False\n"
   ]
  },
  {
   "cell_type": "code",
   "execution_count": null,
   "metadata": {},
   "outputs": [],
   "source": [
    "print('Should print 0.75')\n",
    "assertEquals(student_attendance(100, 75), True)\n",
    "print()\n",
    "print('Should print 0.6676....')\n",
    "assertEquals(student_attendance(1032, 689), False)\n",
    "print()\n",
    "print('Should print 0.7066...')\n",
    "assertEquals(student_attendance(750, 530), False)"
   ]
  },
  {
   "cell_type": "markdown",
   "metadata": {},
   "source": [
    "# Loops"
   ]
  },
  {
   "cell_type": "markdown",
   "metadata": {},
   "source": [
    "## Question 1"
   ]
  },
  {
   "cell_type": "code",
   "execution_count": null,
   "metadata": {},
   "outputs": [],
   "source": [
    "def two_of_three(x, y, z):\n",
    "    \"\"\"Return a*a + b*b, where a and b are the two smallest members of the\n",
    "    positive numbers x, y, and z.## Question 1\n",
    "    \"\"\"\n",
    "    return _____"
   ]
  },
  {
   "cell_type": "code",
   "execution_count": null,
   "metadata": {},
   "outputs": [],
   "source": [
    "assertEquals(two_of_three(1, 2, 3), 5)\n",
    "assertEquals(two_of_three(5, 3, 1), 10)\n",
    "assertEquals(two_of_three(5, 5, 5), 50)"
   ]
  },
  {
   "cell_type": "markdown",
   "metadata": {},
   "source": [
    "## Question 1"
   ]
  },
  {
   "cell_type": "code",
   "execution_count": null,
   "metadata": {},
   "outputs": [],
   "source": [
    "def count_divisors(n, x):\n",
    "    ''' Given n, return the number of even integers between \n",
    "    1 through n (n included) that are divisible by x (remainder is 0)\n",
    "    Use a while or for loop.'''## Question 1\n",
    "    return "
   ]
  },
  {
   "cell_type": "code",
   "execution_count": null,
   "metadata": {},
   "outputs": [],
   "source": [
    "assertEquals(count_divisors(100, 5), 20)\n",
    "assertEquals(count_divisors(230, 3), 76)\n",
    "assertEquals(count_divisors(1, 5), 0)"
   ]
  },
  {
   "cell_type": "markdown",
   "metadata": {},
   "source": [
    "## Question 1"
   ]
  },
  {
   "cell_type": "code",
   "execution_count": null,
   "metadata": {},
   "outputs": [],
   "source": [
    "def print_pattern(x):\n",
    "    '''Print the pattern... if x was 5 then it should print\n",
    "    1\n",
    "    1 2\n",
    "    1 2 3\n",
    "    1 2 3 4\n",
    "    1 2 3 4 5\n",
    "    Do not return anything## Question 1\n",
    "    '''"
   ]
  },
  {
   "cell_type": "code",
   "execution_count": null,
   "metadata": {},
   "outputs": [],
   "source": [
    "#Visual Check\n",
    "print_pattern(5)"
   ]
  },
  {
   "cell_type": "markdown",
   "metadata": {},
   "source": [
    "## Question 1"
   ]
  },
  {
   "cell_type": "code",
   "execution_count": null,
   "metadata": {},
   "outputs": [],
   "source": [
    "def gcd(x, y):\n",
    "    '''Returns the greatest common denominator between two numbers'''\n",
    "    greatest = 1 #Variable to keep track of the greatest so far...\n",
    "    for i in range(2, min(x, y) + 1): # To find the divisors of any number, we just have to check from 1 to the number\n",
    "    \n",
    "        # Write your code here\n",
    "        #hint use mod to check if a number is divisor\n",
    "    return greatest\n",
    "gcd(6, 9)## Question 1\n",
    "        "
   ]
  },
  {
   "cell_type": "code",
   "execution_count": null,
   "metadata": {},
   "outputs": [],
   "source": [
    "assertEquals(gcd(6, 9), 3)\n",
    "assertEquals(gcd(10, 100), 10)\n",
    "assertEquals(gcd(5, 7), 1)"
   ]
  },
  {
   "cell_type": "markdown",
   "metadata": {},
   "source": [
    "# Hailstone\n",
    "Douglas Hofstadter's Pulitzer-prize-winning book, Gödel, Escher, Bach, poses the following mathematical puzzle.\n",
    "\n",
    "Pick a positive integer x as the start.\n",
    "\n",
    "If x is even, divide it by 2.\n",
    "\n",
    "If x is odd, multiply it by 3 and add 1.\n",
    "\n",
    "Continue this process until x is 1.\n",
    "\n",
    "a = hailstone(10)\n",
    "\n",
    "    10\n",
    "    5\n",
    "    16\n",
    "    8\n",
    "    4\n",
    "    2\n",
    "    1\n",
    "a\n",
    "    \n",
    "    7"
   ]
  },
  {
   "cell_type": "code",
   "execution_count": null,
   "metadata": {},
   "outputs": [],
   "source": []
  }
 ],
 "metadata": {
  "kernelspec": {
   "display_name": "Python 3",
   "language": "python",
   "name": "python3"
  },
  "language_info": {
   "codemirror_mode": {
    "name": "ipython",
    "version": 3
   },
   "file_extension": ".py",
   "mimetype": "text/x-python",
   "name": "python",
   "nbconvert_exporter": "python",
   "pygments_lexer": "ipython3",
   "version": "3.7.4"
  }
 },
 "nbformat": 4,
 "nbformat_minor": 4
}
