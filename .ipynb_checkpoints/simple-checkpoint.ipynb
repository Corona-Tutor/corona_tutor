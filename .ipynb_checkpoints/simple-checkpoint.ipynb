{
 "cells": [
  {
   "cell_type": "code",
   "execution_count": null,
   "metadata": {},
   "outputs": [],
   "source": [
    "def assert_equals(val1, val2):\n",
    "    if val1 == val2:\n",
    "        print('Correct.')\n",
    "    else:\n",
    "        print('Incorrect.')"
   ]
  },
  {
   "cell_type": "code",
   "execution_count": null,
   "metadata": {},
   "outputs": [],
   "source": [
    "def add():\n",
    "    \"\"\"\n",
    "    add(1, 5) -> return 6\n",
    "    add(10, 3) -> return 13\n",
    "    \"\"\""
   ]
  },
  {
   "cell_type": "code",
   "execution_count": null,
   "metadata": {},
   "outputs": [],
   "source": [
    "assert_equals(add(1, 5), 6)\n",
    "assert_equals(add(10, 3), 13)"
   ]
  },
  {
   "cell_type": "code",
   "execution_count": null,
   "metadata": {},
   "outputs": [],
   "source": [
    "def subtract():\n",
    "    \"\"\"\n",
    "    subtract(1, 5) -> -4\n",
    "    subtract(10, 3) -> 7\n",
    "    \"\"\"\n",
    "    "
   ]
  },
  {
   "cell_type": "code",
   "execution_count": null,
   "metadata": {},
   "outputs": [],
   "source": [
    "assert_equals(subtract(1, 5), -4)\n",
    "assert_equals(subtract(10, 3), 7)"
   ]
  },
  {
   "cell_type": "code",
   "execution_count": null,
   "metadata": {},
   "outputs": [],
   "source": [
    "def mul():\n",
    "    \"\"\"\n",
    "    mul(1, 5) -> 5\n",
    "    mul(10, 3) -> 30\n",
    "    \"\"\"\n",
    "    "
   ]
  },
  {
   "cell_type": "code",
   "execution_count": null,
   "metadata": {},
   "outputs": [],
   "source": [
    "assert_equals(mul(1, 5), 5)\n",
    "assert_equals(mul(10, 3), 30)"
   ]
  },
  {
   "cell_type": "code",
   "execution_count": null,
   "metadata": {},
   "outputs": [],
   "source": [
    "def square():\n",
    "    \"\"\"\n",
    "    square(1) -> 1\n",
    "    square(5) -> 25\n",
    "    \"\"\"\n",
    "    "
   ]
  },
  {
   "cell_type": "code",
   "execution_count": null,
   "metadata": {},
   "outputs": [],
   "source": [
    "assert_equals(square(1), 1)\n",
    "assert_equals(square(5), 25)"
   ]
  },
  {
   "cell_type": "code",
   "execution_count": null,
   "metadata": {},
   "outputs": [],
   "source": [
    "def power():\n",
    "    \"\"\" \n",
    "    power(1, 5) --> 5\n",
    "    power(10, 3) --> 1000\n",
    "    \"\"\""
   ]
  },
  {
   "cell_type": "code",
   "execution_count": null,
   "metadata": {},
   "outputs": [],
   "source": [
    "assert_equals(power(1, 5), 1)\n",
    "assert_equals(power(10, 3), 1000)"
   ]
  },
  {
   "cell_type": "code",
   "execution_count": null,
   "metadata": {},
   "outputs": [],
   "source": [
    "def sum_squares():\n",
    "    \"\"\"\n",
    "    Return a^2 + b^2. Can you use methods defined above?\n",
    "    sum_squares(1, 5) -> 26\n",
    "    sum_squares(10, 3) -> 109\n",
    "    \"\"\"\n",
    "    "
   ]
  },
  {
   "cell_type": "code",
   "execution_count": null,
   "metadata": {},
   "outputs": [],
   "source": [
    "assert_equals(sum_squares(1, 5), 26)\n",
    "assert_equals(sum_squares(10, 3), 109)"
   ]
  },
  {
   "cell_type": "code",
   "execution_count": null,
   "metadata": {},
   "outputs": [],
   "source": [
    "def min_num():\n",
    "    \"\"\"\n",
    "    Return the lower of the two numbers.\n",
    "    min_num(1, 5) -> 1\n",
    "    min_num(10, 3) -> 3\n",
    "    \"\"\""
   ]
  },
  {
   "cell_type": "code",
   "execution_count": null,
   "metadata": {},
   "outputs": [],
   "source": [
    "assert_equals(min_num(1, 5), 1)\n",
    "assert_equals(min_num(10, 3), 3)"
   ]
  },
  {
   "cell_type": "code",
   "execution_count": null,
   "metadata": {},
   "outputs": [],
   "source": [
    "def max_num():\n",
    "    \"\"\"\n",
    "    Return the higher of the two numbers.\n",
    "    max_num(1, 5) -> 5\n",
    "    max_num(10, 3) -> 10\n",
    "    \"\"\""
   ]
  },
  {
   "cell_type": "code",
   "execution_count": null,
   "metadata": {},
   "outputs": [],
   "source": [
    "assert_equals(max_num(1, 5), 5)\n",
    "assert_equals(max_num(10, 3), 10)"
   ]
  },
  {
   "cell_type": "code",
   "execution_count": null,
   "metadata": {},
   "outputs": [],
   "source": [
    "def abs_value():\n",
    "    \"\"\"\n",
    "    Return the absolute value of a number.\n",
    "    abs_value(1) -> 1\n",
    "    abs_value(-1) -> 1\n",
    "    \"\"\""
   ]
  },
  {
   "cell_type": "code",
   "execution_count": null,
   "metadata": {},
   "outputs": [],
   "source": [
    "assert_equals(abs_value(1), 1)\n",
    "assert_equals(abs_value(-1), 1)"
   ]
  },
  {
   "cell_type": "code",
   "execution_count": null,
   "metadata": {},
   "outputs": [],
   "source": [
    "def a_plus_abs_b(a, b):\n",
    "    \"\"\"Return a+abs(b), but without calling abs.\n",
    "\n",
    "    >>> a_plus_abs_b(2, 3)\n",
    "    5\n",
    "    >>> a_plus_abs_b(2, -3)\n",
    "    5\n",
    "    \"\"\""
   ]
  },
  {
   "cell_type": "code",
   "execution_count": null,
   "metadata": {},
   "outputs": [],
   "source": [
    "assert_equals(a_plus_abs_b(2, 3), 5)\n",
    "assert_equals(a_plus_abs_b(2, -3), 5)"
   ]
  },
  {
   "cell_type": "code",
   "execution_count": null,
   "metadata": {},
   "outputs": [],
   "source": [
    "def two_of_three(x, y, z):\n",
    "    \"\"\"Return a*a + b*b, where a and b are the two smallest members of the\n",
    "    positive numbers x, y, and z.\n",
    "\n",
    "    >>> two_of_three(1, 2, 3)\n",
    "    5\n",
    "    >>> two_of_three(5, 3, 1)\n",
    "    10\n",
    "    >>> two_of_three(10, 2, 8)\n",
    "    68\n",
    "    >>> two_of_three(5, 5, 5)\n",
    "    50\n",
    "    \"\"\""
   ]
  },
  {
   "cell_type": "code",
   "execution_count": null,
   "metadata": {},
   "outputs": [],
   "source": [
    "assert_equals(two_of_three(1, 2, 3), 5)\n",
    "assert_equals(two_of_three(5, 3, 1), 10)"
   ]
  },
  {
   "cell_type": "code",
   "execution_count": null,
   "metadata": {},
   "outputs": [],
   "source": [
    "def is_even(x):\n",
    "    \"\"\" Return True if x is even, else return False\"\"\""
   ]
  },
  {
   "cell_type": "code",
   "execution_count": null,
   "metadata": {},
   "outputs": [],
   "source": [
    "assert_equals(two_of_three(1), False)\n",
    "assert_equals(two_of_three(4), True)"
   ]
  }
 ],
 "metadata": {
  "kernelspec": {
   "display_name": "Python 3",
   "language": "python",
   "name": "python3"
  },
  "language_info": {
   "codemirror_mode": {
    "name": "ipython",
    "version": 3
   },
   "file_extension": ".py",
   "mimetype": "text/x-python",
   "name": "python",
   "nbconvert_exporter": "python",
   "pygments_lexer": "ipython3",
   "version": "3.7.4"
  }
 },
 "nbformat": 4,
 "nbformat_minor": 2
}
