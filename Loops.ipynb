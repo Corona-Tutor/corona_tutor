{
 "cells": [
  {
   "cell_type": "code",
   "execution_count": 13,
   "metadata": {},
   "outputs": [],
   "source": [
    "def assert_equals(val1, val2):\n",
    "    if val1 == val2:\n",
    "        print('Correct.')\n",
    "    else:\n",
    "        print('Incorrect.')"
   ]
  },
  {
   "cell_type": "code",
   "execution_count": 2,
   "metadata": {},
   "outputs": [
    {
     "name": "stdout",
     "output_type": "stream",
     "text": [
      "10\n",
      "11\n",
      "12\n",
      "13\n",
      "14\n",
      "15\n",
      "16\n",
      "17\n",
      "18\n",
      "19\n",
      "10\n",
      "11\n",
      "12\n",
      "13\n",
      "14\n",
      "15\n",
      "16\n",
      "17\n",
      "18\n",
      "19\n"
     ]
    }
   ],
   "source": [
    "for some_name in range(10, 20):\n",
    "    print(some_name)\n",
    "\n",
    "some_name = 10\n",
    "\n",
    "while some_name < 20:\n",
    "    print(some_name)\n",
    "    some_name += 1"
   ]
  },
  {
   "cell_type": "markdown",
   "metadata": {},
   "source": [
    "## Question 1"
   ]
  },
  {
   "cell_type": "code",
   "execution_count": 2,
   "metadata": {},
   "outputs": [],
   "source": [
    "def average(start, end):\n",
    "    '''\n",
    "    Returns the average of all the numbers from start to end (inclusive).\n",
    "    Use a for loop\n",
    "    '''"
   ]
  },
  {
   "cell_type": "code",
   "execution_count": 6,
   "metadata": {},
   "outputs": [
    {
     "name": "stdout",
     "output_type": "stream",
     "text": [
      "Correct.\n",
      "Correct.\n",
      "Correct.\n"
     ]
    }
   ],
   "source": [
    "assert_equals(average(1, 10), 5.5)\n",
    "assert_equals(average(45, 99), 72.0)\n",
    "assert_equals(average(33, 75), 54.0)"
   ]
  },
  {
   "cell_type": "code",
   "execution_count": null,
   "metadata": {},
   "outputs": [],
   "source": [
    "def average(start, end):\n",
    "    '''\n",
    "    Returns the average of all the numbers from start to end (inclusive).\n",
    "    use a while loop\n",
    "    '''"
   ]
  },
  {
   "cell_type": "code",
   "execution_count": 7,
   "metadata": {},
   "outputs": [
    {
     "name": "stdout",
     "output_type": "stream",
     "text": [
      "Correct.\n",
      "Correct.\n",
      "Correct.\n"
     ]
    }
   ],
   "source": [
    "assert_equals(average(1, 10), 5.5)\n",
    "assert_equals(average(45, 99), 72.0)\n",
    "assert_equals(average(33, 75), 54.0)"
   ]
  },
  {
   "cell_type": "markdown",
   "metadata": {},
   "source": [
    "## Question 2"
   ]
  },
  {
   "cell_type": "code",
   "execution_count": null,
   "metadata": {},
   "outputs": [],
   "source": [
    "total = 0\n",
    "for i in range(5):\n",
    "    total += i"
   ]
  },
  {
   "cell_type": "code",
   "execution_count": 16,
   "metadata": {},
   "outputs": [
    {
     "name": "stdout",
     "output_type": "stream",
     "text": [
      "1\n",
      "2\n",
      "3\n",
      "4\n",
      "5\n"
     ]
    }
   ],
   "source": [
    "# factorial(5) --> 5 * 4 * 3 * 2 * 1 <--> 1 * 2 * 3 * 4 * 5\n",
    "\n",
    "for i in range(1, 6):\n",
    "    print(i)"
   ]
  },
  {
   "cell_type": "code",
   "execution_count": 14,
   "metadata": {},
   "outputs": [],
   "source": [
    "def factorial(n):\n",
    "    '''\n",
    "    Returns the factorial of n. Use a for loop.\n",
    "    A factorial of:\n",
    "        5 is 5 * 4 * 3 * 2 * 1\n",
    "        6 is 6 * 5 * 4 * 3 * 2 * 1\n",
    "        0 is 1\n",
    "    '''\n",
    "    prod = 1\n",
    "    for i in range(1, n + 1):\n",
    "        prod *= i\n",
    "    return prod"
   ]
  },
  {
   "cell_type": "code",
   "execution_count": 15,
   "metadata": {},
   "outputs": [
    {
     "name": "stdout",
     "output_type": "stream",
     "text": [
      "Correct.\n",
      "Correct.\n",
      "Correct.\n"
     ]
    }
   ],
   "source": [
    "assert_equals(factorial(0), 1)\n",
    "assert_equals(factorial(5), 120)\n",
    "assert_equals(factorial(7), 5040)"
   ]
  },
  {
   "cell_type": "code",
   "execution_count": 19,
   "metadata": {},
   "outputs": [],
   "source": [
    "def factorial(n):\n",
    "    '''\n",
    "    Returns the factorial of n. Use a while loop.\n",
    "    A factorial of:\n",
    "        5 is 5 * 4 * 3 * 2 * 1\n",
    "        6 is 6 * 5 * 4 * 3 * 2 * 1\n",
    "        0 is 1\n",
    "    '''\n",
    "    prod = 1\n",
    "    i = n\n",
    "    while i > 0:\n",
    "        prod *= i\n",
    "        i -= 1\n",
    "    return prod\n",
    "        \n",
    "    "
   ]
  },
  {
   "cell_type": "code",
   "execution_count": 20,
   "metadata": {},
   "outputs": [
    {
     "name": "stdout",
     "output_type": "stream",
     "text": [
      "Correct.\n",
      "Correct.\n",
      "Correct.\n"
     ]
    }
   ],
   "source": [
    "assert_equals(factorial(0), 1)\n",
    "assert_equals(factorial(5), 120)\n",
    "assert_equals(factorial(7), 5040)"
   ]
  },
  {
   "cell_type": "markdown",
   "metadata": {},
   "source": [
    "## Question 3"
   ]
  },
  {
   "cell_type": "code",
   "execution_count": 22,
   "metadata": {},
   "outputs": [],
   "source": [
    "def increasing_sum(start, end):\n",
    "    '''\n",
    "    Return the sum of every number from start to end (inclusive) where\n",
    "    we multiply each the first number by 1 and second number by 2 and\n",
    "    so on. Use a for loop.\n",
    "    \n",
    "    increasing_sum(5, 10) --> 5*1 + 6*2 + 7*3 + 8*4 + 9*5 + 10*6\n",
    "    '''\n",
    "    return 50"
   ]
  },
  {
   "cell_type": "code",
   "execution_count": 24,
   "metadata": {},
   "outputs": [
    {
     "name": "stdout",
     "output_type": "stream",
     "text": [
      "Correct.\n",
      "Correct.\n",
      "Correct.\n"
     ]
    }
   ],
   "source": [
    "assert_equals(increasing_sum(5, 10), 175)\n",
    "assert_equals(increasing_sum(0, 20), 3080)\n",
    "assert_equals(increasing_sum(-10, 5), 0)"
   ]
  },
  {
   "cell_type": "code",
   "execution_count": null,
   "metadata": {},
   "outputs": [],
   "source": [
    "def increasing_sum(start, end):\n",
    "    '''\n",
    "    Return the sum of every number from start to end (inclusive) where\n",
    "    we multiply each the first number by 1 and second number by 2 and\n",
    "    so on. Use a while loop.\n",
    "    \n",
    "    increasing_sum(5, 10) --> 5*1 + 6*2 + 7*3 + 8*4 + 9*5 + 10*6\n",
    "    '''"
   ]
  },
  {
   "cell_type": "code",
   "execution_count": 26,
   "metadata": {},
   "outputs": [
    {
     "name": "stdout",
     "output_type": "stream",
     "text": [
      "Incorrect.\n",
      "Incorrect.\n",
      "Incorrect.\n"
     ]
    }
   ],
   "source": [
    "assert_equals(increasing_sum(5, 10), 175)\n",
    "assert_equals(increasing_sum(0, 20), 3080)\n",
    "assert_equals(increasing_sum(-10, 5), 0)"
   ]
  },
  {
   "cell_type": "markdown",
   "metadata": {},
   "source": [
    "## Question 4"
   ]
  },
  {
   "cell_type": "code",
   "execution_count": 33,
   "metadata": {},
   "outputs": [],
   "source": [
    "def swap_add(start, end):\n",
    "    '''\n",
    "    If you have a range from start to end (inclusive). Keep adding numbers\n",
    "    until you see a number that is divisible by 5. Then you subtract. If\n",
    "    you then see another number that is divisible by 5 you add. Keep\n",
    "    switching from adding to subtracting everytime. Use a for loop. \n",
    "    \n",
    "    Hint: You might want to consider creating a variable that determines\n",
    "    if you are currently subtracting or adding right now and use that as \n",
    "    a way to determine what you want to do. \n",
    "    '''"
   ]
  },
  {
   "cell_type": "code",
   "execution_count": 38,
   "metadata": {},
   "outputs": [
    {
     "name": "stdout",
     "output_type": "stream",
     "text": [
      "Correct.\n",
      "Correct.\n",
      "Correct.\n"
     ]
    }
   ],
   "source": [
    "assert_equals(swap_add(1, 4), 10)\n",
    "assert_equals(swap_add(0, 4), -10)\n",
    "assert_equals(swap_add(0, 5), -5)"
   ]
  },
  {
   "cell_type": "code",
   "execution_count": 39,
   "metadata": {},
   "outputs": [],
   "source": [
    "def swap_add(start, end):\n",
    "    '''\n",
    "    If you have a range from start to end (inclusive). Keep adding numbers\n",
    "    until you see a number that is divisible by 5. Then you subtract. If\n",
    "    you then see another number that is divisible by 5 you add. Keep\n",
    "    switching from adding to subtracting everytime. Use a while loop. \n",
    "    \n",
    "    Hint: You might want to consider creating a variable that determines\n",
    "    if you are currently subtracting or adding right now and use that as \n",
    "    a way to determine what you want to do. \n",
    "    '''"
   ]
  },
  {
   "cell_type": "code",
   "execution_count": 40,
   "metadata": {},
   "outputs": [
    {
     "name": "stdout",
     "output_type": "stream",
     "text": [
      "Incorrect.\n",
      "Incorrect.\n",
      "Incorrect.\n"
     ]
    }
   ],
   "source": [
    "assert_equals(swap_add(1, 4), 10)\n",
    "assert_equals(swap_add(0, 4), -10)\n",
    "assert_equals(swap_add(0, 5), -5)"
   ]
  },
  {
   "cell_type": "code",
   "execution_count": 48,
   "metadata": {},
   "outputs": [],
   "source": [
    "def need_more(start, target):\n",
    "    '''\n",
    "    Sum the numbers from start, start + 1, ..., start + n until we have\n",
    "    reached greater or equal to the target. Return the sum.\n",
    "    I.E need_more(5, 20) --> 5 + 6 + 7 + 8 --> we stop because sum is 26.\n",
    "    Use a while loop.\n",
    "    '''"
   ]
  },
  {
   "cell_type": "code",
   "execution_count": 45,
   "metadata": {},
   "outputs": [
    {
     "name": "stdout",
     "output_type": "stream",
     "text": [
      "Correct.\n",
      "Correct.\n",
      "Correct.\n"
     ]
    }
   ],
   "source": [
    "assert_equals(need_more(5, 20), 26)\n",
    "assert_equals(need_more(1, 100), 105)\n",
    "assert_equals(need_more(99, 100), 199)"
   ]
  },
  {
   "cell_type": "markdown",
   "metadata": {},
   "source": [
    "### Try doing the previous question in a for loop. It is a little tricky."
   ]
  },
  {
   "cell_type": "code",
   "execution_count": 47,
   "metadata": {},
   "outputs": [],
   "source": [
    "def need_more(start, target):\n",
    "    '''\n",
    "    Sum the numbers from start, start + 1, ..., start + n until we have\n",
    "    reached greater or equal to the target. Return the sum.\n",
    "    I.E need_more(5, 20) --> 5 + 6 + 7 + 8 --> we stop because sum is 26.\n",
    "    Use a for loop.\n",
    "    '''"
   ]
  },
  {
   "cell_type": "code",
   "execution_count": 46,
   "metadata": {},
   "outputs": [
    {
     "name": "stdout",
     "output_type": "stream",
     "text": [
      "Correct.\n",
      "Correct.\n",
      "Correct.\n"
     ]
    }
   ],
   "source": [
    "assert_equals(need_more(5, 20), 26)\n",
    "assert_equals(need_more(1, 100), 105)\n",
    "assert_equals(need_more(99, 100), 199)"
   ]
  },
  {
   "cell_type": "code",
   "execution_count": null,
   "metadata": {},
   "outputs": [],
   "source": []
  }
 ],
 "metadata": {
  "kernelspec": {
   "display_name": "Python 3",
   "language": "python",
   "name": "python3"
  },
  "language_info": {
   "codemirror_mode": {
    "name": "ipython",
    "version": 3
   },
   "file_extension": ".py",
   "mimetype": "text/x-python",
   "name": "python",
   "nbconvert_exporter": "python",
   "pygments_lexer": "ipython3",
   "version": "3.7.4"
  }
 },
 "nbformat": 4,
 "nbformat_minor": 2
}
