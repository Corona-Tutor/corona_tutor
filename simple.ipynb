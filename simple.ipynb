{
 "cells": [
  {
   "cell_type": "code",
   "execution_count": 14,
   "metadata": {},
   "outputs": [],
   "source": [
    "def assert_equals(val1, val2):\n",
    "    if val1 == val2:\n",
    "        print('Correct.')\n",
    "    else:\n",
    "        print('Incorrect.')"
   ]
  },
  {
   "cell_type": "code",
   "execution_count": 20,
   "metadata": {},
   "outputs": [],
   "source": [
    "def add(x, y):\n",
    "    \"\"\"\n",
    "    add(1, 5) -> return 6\n",
    "    add(10, 3) -> return 13\n",
    "    \"\"\"\n",
    "    return x + y\n",
    "    "
   ]
  },
  {
   "cell_type": "code",
   "execution_count": 21,
   "metadata": {},
   "outputs": [
    {
     "name": "stdout",
     "output_type": "stream",
     "text": [
      "Correct.\n",
      "Correct.\n"
     ]
    }
   ],
   "source": [
    "assert_equals(add(1, 5), 6)\n",
    "assert_equals(add(10, 3), 13)"
   ]
  },
  {
   "cell_type": "code",
   "execution_count": null,
   "metadata": {},
   "outputs": [],
   "source": [
    "def subtract(x, y):\n",
    "    \"\"\"\n",
    "    subtract(1, 5) -> -4\n",
    "    subtract(10, 3) -> 7\n",
    "    \"\"\"\n",
    "    "
   ]
  },
  {
   "cell_type": "code",
   "execution_count": null,
   "metadata": {},
   "outputs": [],
   "source": [
    "assert_equals(subtract(1, 5), -4)\n",
    "assert_equals(subtract(10, 3), 7)"
   ]
  },
  {
   "cell_type": "code",
   "execution_count": null,
   "metadata": {},
   "outputs": [],
   "source": [
    "def mul():\n",
    "    \"\"\"\n",
    "    mul(1, 5) -> 5\n",
    "    mul(10, 3) -> 30\n",
    "    \"\"\"\n",
    "    "
   ]
  },
  {
   "cell_type": "code",
   "execution_count": null,
   "metadata": {},
   "outputs": [],
   "source": [
    "assert_equals(mul(1, 5), 5)\n",
    "assert_equals(mul(10, 3), 30)"
   ]
  },
  {
   "cell_type": "code",
   "execution_count": 30,
   "metadata": {},
   "outputs": [],
   "source": [
    "def square(a):\n",
    "    \"\"\"\n",
    "    square(1) -> 1\n",
    "    square(5) -> 25\n",
    "    \"\"\"\n",
    "    return a**2\n",
    "    \n",
    "    "
   ]
  },
  {
   "cell_type": "code",
   "execution_count": null,
   "metadata": {},
   "outputs": [],
   "source": [
    "assert_equals(square(1), 1)\n",
    "assert_equals(square(5), 25)"
   ]
  },
  {
   "cell_type": "code",
   "execution_count": null,
   "metadata": {},
   "outputs": [],
   "source": [
    "def power():\n",
    "    \"\"\" \n",
    "    power(1, 5) --> 5\n",
    "    power(10, 3) --> 1000\n",
    "    \"\"\""
   ]
  },
  {
   "cell_type": "code",
   "execution_count": null,
   "metadata": {},
   "outputs": [],
   "source": [
    "assert_equals(power(1, 5), 1)\n",
    "assert_equals(power(10, 3), 1000)"
   ]
  },
  {
   "cell_type": "code",
   "execution_count": 35,
   "metadata": {},
   "outputs": [],
   "source": [
    "def sum_squares(a, b):\n",
    "    \"\"\"\n",
    "    Return a^2 + b^2. Can you use methods defined above?\n",
    "    sum_squares(1, 5) -> 26\n",
    "    sum_squares(10, 3) -> 109\n",
    "    \"\"\"\n",
    "    return add(square(a), square(b))"
   ]
  },
  {
   "cell_type": "code",
   "execution_count": 36,
   "metadata": {},
   "outputs": [
    {
     "name": "stdout",
     "output_type": "stream",
     "text": [
      "Correct.\n",
      "Correct.\n"
     ]
    }
   ],
   "source": [
    "assert_equals(sum_squares(1, 5), 26)\n",
    "assert_equals(sum_squares(10, 3), 109)"
   ]
  },
  {
   "cell_type": "code",
   "execution_count": 41,
   "metadata": {},
   "outputs": [],
   "source": [
    "def min_num(x, y):\n",
    "    \"\"\"\n",
    "    Return the lower of the two numbers.\n",
    "    min_num(1, 5) -> 1\n",
    "    min_num(10, 3) -> 3\n",
    "    \"\"\"\n",
    "    if x < y:\n",
    "        return x\n",
    "    else:\n",
    "        return y"
   ]
  },
  {
   "cell_type": "code",
   "execution_count": 42,
   "metadata": {},
   "outputs": [
    {
     "name": "stdout",
     "output_type": "stream",
     "text": [
      "Correct.\n",
      "Correct.\n"
     ]
    }
   ],
   "source": [
    "assert_equals(min_num(1, 5), 1)\n",
    "assert_equals(min_num(10, 3), 3)"
   ]
  },
  {
   "cell_type": "code",
   "execution_count": null,
   "metadata": {},
   "outputs": [],
   "source": [
    "def max_num():\n",
    "    \"\"\"\n",
    "    Return the higher of the two numbers.\n",
    "    max_num(1, 5) -> 5\n",
    "    max_num(10, 3) -> 10\n",
    "    \"\"\""
   ]
  },
  {
   "cell_type": "code",
   "execution_count": null,
   "metadata": {},
   "outputs": [],
   "source": [
    "assert_equals(max_num(1, 5), 5)\n",
    "assert_equals(max_num(10, 3), 10)"
   ]
  },
  {
   "cell_type": "code",
   "execution_count": 45,
   "metadata": {},
   "outputs": [],
   "source": [
    "def abs_value(x):\n",
    "    \"\"\"\n",
    "    Return the absolute value of a number.\n",
    "    abs_value(1) -> 1\n",
    "    abs_value(-1) -> 1\n",
    "    \"\"\"\n",
    "    if x < 0:\n",
    "        return x * -1\n",
    "    else:\n",
    "        return x"
   ]
  },
  {
   "cell_type": "code",
   "execution_count": 46,
   "metadata": {},
   "outputs": [
    {
     "name": "stdout",
     "output_type": "stream",
     "text": [
      "Correct.\n",
      "Correct.\n"
     ]
    }
   ],
   "source": [
    "assert_equals(abs_value(1), 1)\n",
    "assert_equals(abs_value(-1), 1)"
   ]
  },
  {
   "cell_type": "code",
   "execution_count": 47,
   "metadata": {},
   "outputs": [],
   "source": [
    "def a_plus_abs_b(a, b):\n",
    "    \"\"\"Return a+abs(b), but without calling abs.\n",
    "\n",
    "    >>> a_plus_abs_b(2, 3)\n",
    "    5\n",
    "    >>> a_plus_abs_b(2, -3)\n",
    "    5\n",
    "    \"\"\"\n",
    "    return a + abs_value(b)"
   ]
  },
  {
   "cell_type": "code",
   "execution_count": 48,
   "metadata": {},
   "outputs": [
    {
     "name": "stdout",
     "output_type": "stream",
     "text": [
      "Correct.\n",
      "Correct.\n"
     ]
    }
   ],
   "source": [
    "assert_equals(a_plus_abs_b(2, 3), 5)\n",
    "assert_equals(a_plus_abs_b(2, -3), 5)"
   ]
  },
  {
   "cell_type": "code",
   "execution_count": 60,
   "metadata": {},
   "outputs": [],
   "source": [
    "def two_of_three(a, b, c):\n",
    "    \"\"\"Return a*a + b*b, where a and b are the two smallest members of the\n",
    "    positive numbers x, y, and z. \n",
    "\n",
    "    >>> two_of_three(1, 2, 3)\n",
    "    5\n",
    "    >>> two_of_three(5, 3, 1)\n",
    "    10\n",
    "    >>> two_of_three(10, 2, 8)\n",
    "    68\n",
    "    >>> two_of_three(5, 5, 5)\n",
    "    50\n",
    "    \"\"\"\n",
    "    return min(a*a + b*b, a*a * c*c, b*b + c*c)\n",
    "    \n",
    "    "
   ]
  },
  {
   "cell_type": "code",
   "execution_count": 61,
   "metadata": {},
   "outputs": [
    {
     "name": "stdout",
     "output_type": "stream",
     "text": [
      "Correct.\n",
      "Correct.\n"
     ]
    }
   ],
   "source": [
    "assert_equals(two_of_three(1, 2, 3), 5)\n",
    "assert_equals(two_of_three(5, 3, 1), 10)"
   ]
  },
  {
   "cell_type": "code",
   "execution_count": 71,
   "metadata": {},
   "outputs": [],
   "source": [
    "def is_even(x):\n",
    "    \"\"\" Return True if x is even, else return False\"\"\"\n",
    "    if x % 2 == 0:\n",
    "        return True\n",
    "    else:\n",
    "        return False"
   ]
  },
  {
   "cell_type": "code",
   "execution_count": 72,
   "metadata": {},
   "outputs": [
    {
     "name": "stdout",
     "output_type": "stream",
     "text": [
      "Correct.\n",
      "Correct.\n"
     ]
    }
   ],
   "source": [
    "assert_equals(is_even(1), False)\n",
    "assert_equals(is_even(4), True)"
   ]
  },
  {
   "cell_type": "code",
   "execution_count": 67,
   "metadata": {},
   "outputs": [],
   "source": [
    "def grade(x):\n",
    "    \"\"\"Return \n",
    "    A for any number 90 - 100 (90 Included)\n",
    "    B 80-90 (80 Included)\n",
    "    C 70-80 (70 Included)\n",
    "    D 60-70 (60 Included)\n",
    "    F 60 and Below\n",
    "    \"\"\"\n",
    "    if x < 60:\n",
    "        return 'F'\n",
    "    elif x < 70:\n",
    "        return 'D'\n",
    "    elif x < 80:\n",
    "        return 'C'\n",
    "    elif x < 90:\n",
    "        return 'B'\n",
    "    else:\n",
    "        return 'A'"
   ]
  },
  {
   "cell_type": "code",
   "execution_count": 68,
   "metadata": {},
   "outputs": [
    {
     "data": {
      "text/plain": [
       "'B'"
      ]
     },
     "execution_count": 68,
     "metadata": {},
     "output_type": "execute_result"
    }
   ],
   "source": [
    "grade(85.5) "
   ]
  },
  {
   "cell_type": "code",
   "execution_count": 76,
   "metadata": {},
   "outputs": [
    {
     "name": "stdout",
     "output_type": "stream",
     "text": [
      "5\n",
      "6\n",
      "7\n",
      "8\n",
      "9\n",
      "10\n",
      "11\n",
      "12\n",
      "13\n",
      "14\n",
      "15\n",
      "16\n",
      "17\n",
      "18\n",
      "19\n"
     ]
    }
   ],
   "source": [
    "for i in range(5, 20):\n",
    "    print(i)\n",
    "    \n",
    "while "
   ]
  },
  {
   "cell_type": "code",
   "execution_count": null,
   "metadata": {},
   "outputs": [],
   "source": []
  }
 ],
 "metadata": {
  "kernelspec": {
   "display_name": "Python 3",
   "language": "python",
   "name": "python3"
  },
  "language_info": {
   "codemirror_mode": {
    "name": "ipython",
    "version": 3
   },
   "file_extension": ".py",
   "mimetype": "text/x-python",
   "name": "python",
   "nbconvert_exporter": "python",
   "pygments_lexer": "ipython3",
   "version": "3.7.4"
  }
 },
 "nbformat": 4,
 "nbformat_minor": 2
}
